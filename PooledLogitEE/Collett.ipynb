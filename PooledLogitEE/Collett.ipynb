{
 "cells": [
  {
   "cell_type": "markdown",
   "id": "4fcf9683-21b9-4617-b25e-e77d7153ff0b",
   "metadata": {},
   "source": [
    "# Example 1: Collett\n",
    "\n",
    "Example 1 comes from a placebo-controlled trial on time-to-recurrence among bladder cancer patients, with data obtained from Collett. Data consists of 86 patients  who received either placebo or the chemotherapeutic thiotepa following removal of superficial bladder tumors, with time measured in months up to $\\tau = 59$. Other baseline variables collected included the initial number of tumors and the diameter (in centimeters) of the largest initial tumor. Here, the parameter of interest was the average causal effect comparing novel to standard treatment on disease-free survival at 59 months. While treatment was randomized, both number of tumors and tumor diameter are adjusted for. Both variables were modeled as linear relationships for simplicity. Time was modeled using disjoint indicators and restricted quadratic splines with knots at 10, 20, 30, and 40 months, respectively.\n",
    "\n",
    "## Setup"
   ]
  },
  {
   "cell_type": "code",
   "execution_count": 1,
   "id": "ede12c97-533f-4255-bec0-525e5b8314b8",
   "metadata": {},
   "outputs": [
    {
     "name": "stdout",
     "output_type": "stream",
     "text": [
      "NumPy version:        1.25.2\n",
      "SciPy version:        1.11.2\n",
      "Pandas version:       1.4.1\n",
      "Matplotlib version:   3.9.2\n",
      "Delicatessen version: 3.1\n"
     ]
    }
   ],
   "source": [
    "import numpy as np\n",
    "import scipy as sp\n",
    "import pandas as pd\n",
    "import matplotlib\n",
    "import matplotlib.pyplot as plt\n",
    "from time import time\n",
    "import delicatessen as deli\n",
    "from delicatessen import MEstimator\n",
    "from delicatessen.utilities import spline\n",
    "\n",
    "from efuncs import ee_pooled_logit, pooled_logit_prediction\n",
    "\n",
    "print(\"NumPy version:       \", np.__version__)\n",
    "print(\"SciPy version:       \", sp.__version__)\n",
    "print(\"Pandas version:      \", pd.__version__)\n",
    "print(\"Matplotlib version:  \", matplotlib.__version__)\n",
    "print(\"Delicatessen version:\", deli.__version__)"
   ]
  },
  {
   "cell_type": "code",
   "execution_count": 2,
   "id": "d92da164-311f-4363-b621-ce6a0bb8d726",
   "metadata": {},
   "outputs": [],
   "source": [
    "d = pd.read_csv(\"data/collett.dat\", sep='\\s+',\n",
    "                names=['patient', 'time', 'delta', 'treat', 'init', 'size'])\n",
    "d['novel'] = d['treat'] - 1\n",
    "d['intercept'] = 1\n",
    "\n",
    "# Data under policy\n",
    "d1 = d.copy()\n",
    "d1['novel'] = 1\n",
    "d0 = d.copy()\n",
    "d0['novel'] = 0"
   ]
  },
  {
   "cell_type": "code",
   "execution_count": 3,
   "id": "14dff420-709a-4f72-bde2-1745ebe72bae",
   "metadata": {},
   "outputs": [],
   "source": [
    "a = np.asarray(d['novel'])\n",
    "t = np.asarray(d['time'])\n",
    "y = np.asarray(d['delta'])\n",
    "W = np.asarray(d[['init', 'size', ]])"
   ]
  },
  {
   "cell_type": "markdown",
   "id": "149d97ca-196b-4541-a66b-f93193d3a944",
   "metadata": {},
   "source": [
    "## Fitting Treatment-Stratified Pooled Logistic Models\n",
    "\n",
    "To begin, we illustrate how stratified pooled logistic regression models are fit. Here, models are stratified by treatment, which avoids a proportional hazards assumption for treatment, and also incorporates interactions between treatment and other baseline variables. \n",
    "\n",
    "### Disjoint Indicators for Time\n",
    "\n",
    "Starting with $A=1$, a pooled logistic model can be estimated via"
   ]
  },
  {
   "cell_type": "code",
   "execution_count": 4,
   "id": "024fc6ab-df61-4347-9bfb-81da4ad80f5e",
   "metadata": {},
   "outputs": [],
   "source": [
    "# Unique events times for A=1\n",
    "event_times_a1 = list(np.unique(d.loc[(d['delta'] == 1) & (d['novel'] == 1), 'time']))\n",
    "params_plr_a1 = len(event_times_a1)"
   ]
  },
  {
   "cell_type": "code",
   "execution_count": 5,
   "id": "2a9f11da-96df-493b-811a-b40241bd3e8d",
   "metadata": {},
   "outputs": [],
   "source": [
    "def psi_plogit_a1(theta):\n",
    "    ee_plog = ee_pooled_logit(theta, t=t, delta=y, X=W, unique_times=event_times_a1)\n",
    "    ee_plog = ee_plog * (a == 1)[None, :]\n",
    "    return ee_plog"
   ]
  },
  {
   "cell_type": "code",
   "execution_count": 6,
   "id": "d84e447e-073e-4143-88b3-479b1ea24aa9",
   "metadata": {},
   "outputs": [],
   "source": [
    "inits = ([0., ]*W.shape[1] + [-4., ] +   # Coefs for baseline vars\n",
    "         [0., ]*(params_plr_a1 - 1))     # Coefs for time terms\n",
    "estr = MEstimator(psi_plogit_a1, init=inits)\n",
    "estr.estimate()"
   ]
  },
  {
   "cell_type": "code",
   "execution_count": 7,
   "id": "dfe68563-e3fd-43a6-a374-79356d21cbf3",
   "metadata": {},
   "outputs": [
    {
     "name": "stdout",
     "output_type": "stream",
     "text": [
      "[ 0.25870155 -0.18195973]\n",
      "[-3.31904188  0.89147013 -0.45786535  0.30725113 -0.29018937  0.63019414\n",
      "  0.83450915  0.27667163  0.38896891  0.6490591   0.95004305]\n"
     ]
    }
   ],
   "source": [
    "beta_x = estr.theta[:W.shape[1]]\n",
    "beta_s = estr.theta[W.shape[1]:]\n",
    "print(beta_x)\n",
    "print(beta_s)"
   ]
  },
  {
   "cell_type": "markdown",
   "id": "62e16049-74d4-482c-8d78-d6969eaaa463",
   "metadata": {},
   "source": [
    "The same process can be applied for $A=0$, illustrated below"
   ]
  },
  {
   "cell_type": "code",
   "execution_count": 8,
   "id": "4fe985b0-686b-48f6-a37b-acbe7dc97be4",
   "metadata": {},
   "outputs": [
    {
     "name": "stdout",
     "output_type": "stream",
     "text": [
      "[0.32501568 0.19662417]\n",
      "[-5.00658799  1.60816912  2.39202803  1.16089777  1.21710273  0.60349059\n",
      "  1.40959494  0.75270757  1.62960972  0.98311     1.09439099  1.20492737\n",
      "  1.4032226   1.52463914  1.66612369  2.56839092]\n"
     ]
    }
   ],
   "source": [
    "# Unique events times for A=0\n",
    "event_times_a0 = list(np.unique(d.loc[(d['delta'] == 1) & (d['novel'] == 0), 'time']))\n",
    "params_plr_a0 = len(event_times_a0)\n",
    "\n",
    "# Defining estimating function\n",
    "def psi_plogit_a0(theta):\n",
    "    ee_plog = ee_pooled_logit(theta, t=t, delta=y, X=W, unique_times=event_times_a0)\n",
    "    ee_plog = ee_plog * (a == 0)[None, :]\n",
    "    return ee_plog\n",
    "\n",
    "# Applying M-estimator procedure\n",
    "inits = ([0., ]*W.shape[1] + [-4., ] +   # Coefs for baseline vars\n",
    "         [0., ]*(params_plr_a0 - 1))     # Coefs for time terms\n",
    "estr = MEstimator(psi_plogit_a0, init=inits)\n",
    "estr.estimate()\n",
    "\n",
    "# Showing results\n",
    "beta_x = estr.theta[:W.shape[1]]\n",
    "beta_s = estr.theta[W.shape[1]:]\n",
    "print(beta_x)\n",
    "print(beta_s)"
   ]
  },
  {
   "cell_type": "markdown",
   "id": "539ddb52-5993-45c9-bff2-ca5a8a61579e",
   "metadata": {},
   "source": [
    "### Splines for Time\n",
    "\n",
    "Rather than modeling time with disjoint indicators, one can also use parametric function forms. Here, we use restricted quadratic splines"
   ]
  },
  {
   "cell_type": "code",
   "execution_count": 9,
   "id": "dafb6e37-4ad3-43fb-985d-99d75400bce5",
   "metadata": {},
   "outputs": [],
   "source": [
    "# Creating time design matrix\n",
    "t_steps = np.asarray(range(1, 60))\n",
    "intercept = np.ones(t_steps.shape)[:, None]\n",
    "time_splines = spline(t_steps, knots=[10, 20, 30, 40],\n",
    "                      power=2, restricted=True, normalized=False)\n",
    "s_matrix = np.concatenate([intercept, t_steps[:, None], time_splines], axis=1)"
   ]
  },
  {
   "cell_type": "code",
   "execution_count": 10,
   "id": "b1d1d710-1750-4167-b058-d5132973927a",
   "metadata": {},
   "outputs": [],
   "source": [
    "def psi_plogit_spline_a1(theta):\n",
    "    ee_plog = ee_pooled_logit(theta=theta, t=t, delta=y, X=W, S=s_matrix)\n",
    "    ee_plog = ee_plog * (a == 1)[None, :]\n",
    "    return ee_plog"
   ]
  },
  {
   "cell_type": "code",
   "execution_count": 11,
   "id": "b79b3e5d-fe21-4f43-97d7-5c0b9249c906",
   "metadata": {},
   "outputs": [],
   "source": [
    "inits = [0., 0., -4., ] + [0., ]*4\n",
    "estr = MEstimator(psi_plogit_spline_a1, init=inits)\n",
    "estr.estimate()"
   ]
  },
  {
   "cell_type": "code",
   "execution_count": 12,
   "id": "3c6ee28d-3ad1-41d2-afe1-2d8e9802b47a",
   "metadata": {},
   "outputs": [
    {
     "name": "stdout",
     "output_type": "stream",
     "text": [
      "[ 0.26073188 -0.20114176]\n",
      "[-2.54004996 -0.2109608   0.02323001 -0.04671061  0.03258718]\n"
     ]
    }
   ],
   "source": [
    "beta_x = estr.theta[:W.shape[1]]\n",
    "beta_s = estr.theta[W.shape[1]:]\n",
    "print(beta_x)\n",
    "print(beta_s)"
   ]
  },
  {
   "cell_type": "markdown",
   "id": "266895a3-03f2-4253-aa82-f8708a5268c1",
   "metadata": {},
   "source": [
    "Again, the same process can be applied for $A=0$"
   ]
  },
  {
   "cell_type": "code",
   "execution_count": 13,
   "id": "d0897b3c-880f-42ba-81b0-22126ee696ed",
   "metadata": {},
   "outputs": [
    {
     "name": "stdout",
     "output_type": "stream",
     "text": [
      "[0.28674963 0.1763097 ]\n",
      "[-3.37476252e+00 -8.17811188e-02  9.19681517e-04  1.27216992e-02\n",
      " -5.63928001e-02]\n"
     ]
    }
   ],
   "source": [
    "def psi_plogit_spline_a0(theta):\n",
    "    ee_plog = ee_pooled_logit(theta=theta, t=t, delta=y, X=W, S=s_matrix)\n",
    "    ee_plog = ee_plog * (a == 0)[None, :]\n",
    "    return ee_plog\n",
    "\n",
    "\n",
    "# Applying M-estimator procedure\n",
    "inits = [0., 0., -4., ] + [0., ]*4\n",
    "estr = MEstimator(psi_plogit_spline_a0, init=inits)\n",
    "estr.estimate()\n",
    "\n",
    "# Showing results\n",
    "beta_x = estr.theta[:W.shape[1]]\n",
    "beta_s = estr.theta[W.shape[1]:]\n",
    "print(beta_x)\n",
    "print(beta_s)"
   ]
  },
  {
   "cell_type": "markdown",
   "id": "a0630251-fc2c-4e27-870a-8d3f560989cb",
   "metadata": {},
   "source": [
    "## Estimating the Risk Difference\n",
    "\n",
    "The pooled logistic regression model is simply a nuisance model for the parameters were are interested in. Here, we apply the g-computation estimator to obtain the marginal risk differences. To simply writing the function, we call the previously defined pooled logistic model functions\n",
    "\n",
    "### Disjoint Indicators for Time\n",
    "\n",
    "First, consider how the disjoint indicators for time can be used to model the risk difference over follow-up"
   ]
  },
  {
   "cell_type": "code",
   "execution_count": 14,
   "id": "c2933e6e-e402-45a8-91e9-de7dbc5ba1bd",
   "metadata": {},
   "outputs": [],
   "source": [
    "# Counting up events to define number of parameters later\n",
    "event_times = [0, ] + list(np.unique(d.loc[d['delta'] == 1, 'time'])) + [59, ]\n",
    "event_times_a1 = list(np.unique(d.loc[(d['delta'] == 1) & (d['novel'] == 1), 'time']))\n",
    "event_times_a0 = list(np.unique(d.loc[(d['delta'] == 1) & (d['novel'] == 0), 'time']))\n",
    "params_rd = len(event_times)\n",
    "params_plr_a1 = len(event_times_a1)\n",
    "params_plr_a0 = len(event_times_a0)"
   ]
  },
  {
   "cell_type": "code",
   "execution_count": 15,
   "id": "d9f392fa-0ade-4ae6-9511-9c54ecb1b8ae",
   "metadata": {},
   "outputs": [],
   "source": [
    "def psi_rd(theta):\n",
    "    # Extracting parameters\n",
    "    rds = theta[:params_rd]\n",
    "    idPLR = params_rd + W.shape[1] + params_plr_a1\n",
    "    beta1 = theta[params_rd: idPLR]\n",
    "    beta0 = theta[idPLR:]\n",
    "\n",
    "    # Nuisance models\n",
    "    ee_plog1 = psi_plogit_a1(theta=beta1)\n",
    "    ee_plog0 = psi_plogit_a0(theta=beta0)\n",
    "\n",
    "    # Predictions to get risk differences\n",
    "    risk1 = pooled_logit_prediction(theta=beta1, delta=y, t=t, X=W,\n",
    "                                    times_to_predict=event_times, measure='risk', \n",
    "                                    unique_times=event_times_a1)\n",
    "    risk0 = pooled_logit_prediction(theta=beta0, delta=y, t=t, X=W,\n",
    "                                    times_to_predict=event_times, measure='risk', \n",
    "                                    unique_times=event_times_a0)\n",
    "    ee_rd = (risk1 - risk0) - np.asarray(rds)[:, None]\n",
    "\n",
    "    # Returning stacked estimating equations\n",
    "    return np.vstack([ee_rd, ee_plog1, ee_plog0])"
   ]
  },
  {
   "cell_type": "code",
   "execution_count": 16,
   "id": "5af4ab29-f8c1-440f-881c-3d3b72b3280e",
   "metadata": {},
   "outputs": [],
   "source": [
    "inits = ([0., ]*params_rd\n",
    "         + [0., ]*W.shape[1] + [-4., ] + [0., ]*(params_plr_a1 - 1)\n",
    "         + [0., ]*W.shape[1] + [-4., ] + [0., ]*(params_plr_a0 - 1))\n",
    "estr = MEstimator(psi_rd, init=inits)\n",
    "estr.estimate()"
   ]
  },
  {
   "cell_type": "code",
   "execution_count": 17,
   "id": "1e40f10e-a97d-40bd-958a-3e08bc9302e3",
   "metadata": {},
   "outputs": [],
   "source": [
    "# Formatting RD results for figure\n",
    "rd = estr.theta[:params_rd]\n",
    "rd_ci = estr.confidence_intervals()[:params_rd, :]\n",
    "rd_results = pd.DataFrame()\n",
    "rd_results['time'] = event_times\n",
    "rd_results['rd'] = rd\n",
    "rd_results['lcl'] = rd_ci[:, 0]\n",
    "rd_results['ucl'] = rd_ci[:, 1]"
   ]
  },
  {
   "cell_type": "code",
   "execution_count": 18,
   "id": "d5bb69a3-2217-4c49-9b0e-b41bb7e8f023",
   "metadata": {},
   "outputs": [
    {
     "data": {
      "image/png": "[encoded data removed]",
      "text/plain": [
       "<Figure size 432x252 with 1 Axes>"
      ]
     },
     "metadata": {
      "needs_background": "light"
     },
     "output_type": "display_data"
    }
   ],
   "source": [
    "fig, ax = plt.subplots(figsize=[6, 3.5])\n",
    "ax.axhline(y=0, linestyle=':', color='k')\n",
    "ax.fill_between(rd_results['time'], rd_results['lcl'], rd_results['ucl'], color='k', alpha=0.1, step='post')\n",
    "ax.step(rd_results['time'], rd_results['rd'], color='k', where='post')\n",
    "ax.set_xlim([0, 60])\n",
    "ax.set_ylim([-1, 1])\n",
    "ax.set_xlabel(\"Time (months)\")\n",
    "ax.set_ylabel(\"Risk Difference\")\n",
    "plt.show()"
   ]
  },
  {
   "cell_type": "markdown",
   "id": "30f0bb5c-0e5a-4d9f-b6be-129aeee10bf7",
   "metadata": {},
   "source": [
    "### Splines for Time\n",
    "\n",
    "Repeating estimation of the risk difference but with splines for time."
   ]
  },
  {
   "cell_type": "code",
   "execution_count": 19,
   "id": "1033e504-2f41-49f5-955a-7fd76cba5434",
   "metadata": {},
   "outputs": [],
   "source": [
    "tp_intervals = list(range(0, 60))\n",
    "params_risk = len(tp_intervals)"
   ]
  },
  {
   "cell_type": "code",
   "execution_count": 20,
   "id": "d9032608-1ba4-481e-b788-1ade3e78a0f4",
   "metadata": {},
   "outputs": [],
   "source": [
    "def psi_rd(theta):\n",
    "    # Extracting parameters\n",
    "    risks = theta[:params_risk]\n",
    "    idPLRM = params_risk + 7\n",
    "    beta1 = theta[params_risk:idPLRM]\n",
    "    beta0 = theta[idPLRM:]\n",
    "\n",
    "    # Nuisance models\n",
    "    ee_plog1 = psi_plogit_spline_a1(theta=beta1)\n",
    "    ee_plog0 = psi_plogit_spline_a0(theta=beta0)\n",
    "\n",
    "    # Predictions to get risk differences\n",
    "    risk1 = pooled_logit_prediction(theta=beta1, t=t, delta=y, X=W, S=s_matrix,\n",
    "                                    times_to_predict=tp_intervals, measure='risk')\n",
    "    risk0 = pooled_logit_prediction(theta=beta0, t=t, delta=y, X=W, S=s_matrix,\n",
    "                                    times_to_predict=tp_intervals, measure='risk')\n",
    "    ee_rd = (risk1 - risk0) - np.asarray(risks)[:, None]\n",
    "\n",
    "    # Returning stacked estimating equations\n",
    "    return np.vstack([ee_rd, ee_plog1, ee_plog0])"
   ]
  },
  {
   "cell_type": "code",
   "execution_count": 21,
   "id": "dd7f2010-deae-4aed-993d-927af6fd7200",
   "metadata": {},
   "outputs": [],
   "source": [
    "inits = [0., ]*params_risk + [0., 0., -4., ] + [0., ]*4 + [0., 0., -4., ] + [0., ]*4\n",
    "estr = MEstimator(psi_rd, init=inits)\n",
    "estr.estimate()"
   ]
  },
  {
   "cell_type": "code",
   "execution_count": 22,
   "id": "ee857bb1-0f1c-42b8-8d21-c9bb03e92e11",
   "metadata": {},
   "outputs": [],
   "source": [
    "rd_results = pd.DataFrame()\n",
    "rd_results['time'] = tp_intervals\n",
    "rd_results['rd'] = estr.theta[:params_risk]\n",
    "rd_ci = estr.confidence_intervals()[:params_risk, :]\n",
    "rd_results['lcl'] = rd_ci[:, 0]\n",
    "rd_results['ucl'] = rd_ci[:, 1]"
   ]
  },
  {
   "cell_type": "code",
   "execution_count": 23,
   "id": "e2fa90d7-3ee3-48ca-bf27-a81f193511ee",
   "metadata": {},
   "outputs": [
    {
     "data": {
      "image/png": "[encoded data removed]",
      "text/plain": [
       "<Figure size 432x252 with 1 Axes>"
      ]
     },
     "metadata": {
      "needs_background": "light"
     },
     "output_type": "display_data"
    }
   ],
   "source": [
    "fig, ax = plt.subplots(figsize=[6, 3.5])\n",
    "ax.axhline(y=0, linestyle=':', color='k')\n",
    "ax.fill_between(rd_results['time'], rd_results['lcl'], rd_results['ucl'], color='k', alpha=0.1)\n",
    "ax.plot(rd_results['time'], rd_results['rd'], color='k')\n",
    "ax.set_xlim([0, 60])\n",
    "ax.set_ylim([-1, 1])\n",
    "ax.set_xlabel(\"Time (months)\")\n",
    "ax.set_ylabel(\"Risk Difference\")\n",
    "plt.show()"
   ]
  },
  {
   "cell_type": "markdown",
   "id": "2426faab-c690-4dce-88d9-afa8c8af95de",
   "metadata": {},
   "source": [
    "This completes the walkthrough of the example. If you wish to view the code for how the figures for the publication were generated or the timing between different implementations, please see the corresponding files described in the README."
   ]
  }
 ],
 "metadata": {
  "kernelspec": {
   "display_name": "Python 3 (ipykernel)",
   "language": "python",
   "name": "python3"
  },
  "language_info": {
   "codemirror_mode": {
    "name": "ipython",
    "version": 3
   },
   "file_extension": ".py",
   "mimetype": "text/x-python",
   "name": "python",
   "nbconvert_exporter": "python",
   "pygments_lexer": "ipython3",
   "version": "3.9.4"
  }
 },
 "nbformat": 4,
 "nbformat_minor": 5
}
