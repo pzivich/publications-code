{
 "cells": [
  {
   "cell_type": "markdown",
   "id": "04a7de5d-1745-47a0-af00-db06245bc063",
   "metadata": {},
   "source": [
    "# Example 2: Lau et al.\n",
    "\n",
    "The second example comes from Lau et al. (2009), which analyzed data on 1164 women with HIV from the Women's Interagency HIV Study (WIHS). The parameter of interest was the average causal effect on the composite outcome comparing history of injection drug use to no history at 3653 days (10 years). Confounding variables included race, age, and nadir CD4. Nadir CD4 and age are modeled using restricted quadratic splines with knots at $2.1,3.5,5.2$ and $25, 35, 50$, respectively.\n",
    "\n",
    "## Setup"
   ]
  },
  {
   "cell_type": "code",
   "execution_count": 1,
   "id": "e76b38cb-9d40-432b-bc8c-0f7f03b4331f",
   "metadata": {},
   "outputs": [
    {
     "name": "stdout",
     "output_type": "stream",
     "text": [
      "NumPy version:        1.25.2\n",
      "SciPy version:        1.11.2\n",
      "Pandas version:       1.4.1\n",
      "Matplotlib version:   3.9.2\n",
      "Delicatessen version: 3.1\n"
     ]
    }
   ],
   "source": [
    "import numpy as np\n",
    "import scipy as sp\n",
    "import pandas as pd\n",
    "import matplotlib\n",
    "import matplotlib.pyplot as plt\n",
    "from time import time\n",
    "import delicatessen as deli\n",
    "from delicatessen import MEstimator\n",
    "from delicatessen.utilities import spline\n",
    "\n",
    "from efuncs import ee_pooled_logit, pooled_logit_prediction\n",
    "\n",
    "print(\"NumPy version:       \", np.__version__)\n",
    "print(\"SciPy version:       \", sp.__version__)\n",
    "print(\"Pandas version:      \", pd.__version__)\n",
    "print(\"Matplotlib version:  \", matplotlib.__version__)\n",
    "print(\"Delicatessen version:\", deli.__version__)"
   ]
  },
  {
   "cell_type": "code",
   "execution_count": 2,
   "id": "b9d99dbc-1ec1-46ea-94f0-9f2942860980",
   "metadata": {},
   "outputs": [],
   "source": [
    "d = pd.read_csv(\"data/lau.csv\")\n",
    "\n",
    "# Generating splines for continuous variables\n",
    "d[['cd4_sp1', 'cd4_sp2']] = spline(d['cd4nadir'], knots=[2.1, 3.5, 5.2], power=2, restricted=True, normalized=False)\n",
    "d[['age_sp1', 'age_sp2']] = spline(d['ageatfda'], knots=[25, 35, 50], power=2, restricted=True, normalized=False)\n",
    "\n",
    "# Maxing maximum follow-up 10 years\n",
    "d['event'] = np.where(d['eventtype'] == 2, 1, 0)\n",
    "d['event'] = np.where(d['t'] > 10, 0, d['event'])\n",
    "d['t'] = np.where(d['t'] > 10, 10, d['t'])\n",
    "\n",
    "# Transforming time into days\n",
    "d['days'] = np.ceil(d['t'] * 365.25)\n",
    "d['months'] = np.ceil(d['days'] / 30.437)"
   ]
  },
  {
   "cell_type": "code",
   "execution_count": 3,
   "id": "48daa84e-5de8-458a-93a8-65887be45ff1",
   "metadata": {},
   "outputs": [],
   "source": [
    "time_var = 'days'\n",
    "delta_var = 'event'\n",
    "act_var = 'BASEIDU'\n",
    "a = np.asarray(d[act_var])\n",
    "t = np.asarray(d[time_var])\n",
    "y = np.asarray(d[delta_var])\n",
    "W = np.asarray(d[['black', 'cd4nadir', 'cd4_sp1', 'cd4_sp2', 'ageatfda', 'age_sp1', 'age_sp2']])"
   ]
  },
  {
   "cell_type": "markdown",
   "id": "f4278ffc-f5f6-4382-a853-f6a46051b84d",
   "metadata": {},
   "source": [
    "## Fitting Treatment-Stratified Pooled Logistic Model\n",
    "\n",
    "To begin, we illustrate how stratified pooled logistic regression models are fit. Here, models are stratified by treatment, which avoids a proportional hazards assumption for treatment, and also incorporates interactions between treatment and other baseline variables. \n",
    "\n",
    "### Disjoint Indicators for Time\n",
    "\n",
    "Starting with $A=1$, a pooled logistic model can be estimated via"
   ]
  },
  {
   "cell_type": "code",
   "execution_count": 4,
   "id": "5a3b9349-c97b-4c68-a099-b5ca56cdf04f",
   "metadata": {},
   "outputs": [],
   "source": [
    "event_times_a1 = list(np.unique(d.loc[(d[delta_var] == 1) & (d[act_var] == 1), time_var]))\n",
    "params_plr_a1 = len(event_times_a1)"
   ]
  },
  {
   "cell_type": "code",
   "execution_count": 5,
   "id": "aed4e7fb-57ee-49da-81ae-99bf096c37e3",
   "metadata": {},
   "outputs": [],
   "source": [
    "def psi_plogit_a1(theta):\n",
    "    ee_plog = ee_pooled_logit(theta, t=t, delta=y, X=W, unique_times=event_times_a1)\n",
    "    ee_plog = ee_plog * (a == 1)[None, :]\n",
    "    return ee_plog"
   ]
  },
  {
   "cell_type": "code",
   "execution_count": 6,
   "id": "8e87b265-cdaf-496f-873b-1b0492f032ae",
   "metadata": {},
   "outputs": [],
   "source": [
    "inits = ([0., ]*W.shape[1] + [-4., ] +   # Coefs for baseline vars\n",
    "         [0., ]*(params_plr_a1 - 1))     # Coefs for time terms\n",
    "estr = MEstimator(psi_plogit_a1, init=inits)\n",
    "estr.estimate()"
   ]
  },
  {
   "cell_type": "code",
   "execution_count": 7,
   "id": "4dab1844-88fe-43db-af3c-c06b1a3483f9",
   "metadata": {},
   "outputs": [
    {
     "name": "stdout",
     "output_type": "stream",
     "text": [
      "[ 0.03218578 -0.42678191 -0.04785856  0.24066429  0.23576935 -0.01451363\n",
      "  0.0179291 ]\n"
     ]
    }
   ],
   "source": [
    "starting_a1 = list(estr.theta)\n",
    "beta_x = estr.theta[:W.shape[1]]\n",
    "beta_s = estr.theta[W.shape[1]:]\n",
    "print(beta_x)\n",
    "# print(beta_s)"
   ]
  },
  {
   "cell_type": "markdown",
   "id": "68024d2a-8d13-4060-a822-0e2ecc7e1aa5",
   "metadata": {},
   "source": [
    "The same process can be applied for $A=0$, illustrated below"
   ]
  },
  {
   "cell_type": "code",
   "execution_count": 8,
   "id": "7a84bf0c-305d-43f8-8955-9fdedb98a0ed",
   "metadata": {},
   "outputs": [
    {
     "name": "stdout",
     "output_type": "stream",
     "text": [
      "[ 7.57689917e-02 -9.08573177e-01  2.87512383e-01 -2.57698613e-01\n",
      "  4.09112989e-02  7.97760754e-04 -4.78290399e-03]\n"
     ]
    }
   ],
   "source": [
    "# Unique events times for A=0\n",
    "event_times_a0 = list(np.unique(d.loc[(d[delta_var] == 1) & (d[act_var] == 0), time_var]))\n",
    "params_plr_a0 = len(event_times_a0)\n",
    "\n",
    "# Defining estimating function\n",
    "def psi_plogit_a0(theta):\n",
    "    ee_plog = ee_pooled_logit(theta, t=t, delta=y, X=W, unique_times=event_times_a0)\n",
    "    ee_plog = ee_plog * (a == 0)[None, :]\n",
    "    return ee_plog\n",
    "\n",
    "# Applying M-estimator procedure\n",
    "inits = ([0., ]*W.shape[1] + [-4., ] +   # Coefs for baseline vars\n",
    "         [0., ]*(params_plr_a0 - 1))     # Coefs for time terms\n",
    "estr = MEstimator(psi_plogit_a0, init=inits)\n",
    "estr.estimate()\n",
    "\n",
    "# Showing results\n",
    "starting_a0 = list(estr.theta)\n",
    "beta_x = estr.theta[:W.shape[1]]\n",
    "beta_s = estr.theta[W.shape[1]:]\n",
    "print(beta_x)\n",
    "# print(beta_s)"
   ]
  },
  {
   "cell_type": "markdown",
   "id": "f55e8854-6fd9-49fc-8fd4-bf55756210a2",
   "metadata": {},
   "source": [
    "### Splines for Time\n",
    "\n",
    "Rather than modeling time with disjoint indicators, one can also use parametric function forms. Here, we use restricted quadratic splines"
   ]
  },
  {
   "cell_type": "code",
   "execution_count": 9,
   "id": "b4909dea-21dc-4614-b79c-f3ba221f8054",
   "metadata": {},
   "outputs": [],
   "source": [
    "max_time = int(np.max(d[time_var]))\n",
    "t_steps = np.asarray(range(1, max_time+1))\n",
    "intercept = np.ones(t_steps.shape)[:, None]\n",
    "time_splines = spline(t_steps, knots=[500, 1000, 2000, 3000, 3500],\n",
    "                      power=2, restricted=True, normalized=False)\n",
    "s_matrix = np.concatenate([intercept, t_steps[:, None], time_splines], axis=1)"
   ]
  },
  {
   "cell_type": "code",
   "execution_count": 10,
   "id": "ac444668-a19f-4d26-b040-ce56893bffde",
   "metadata": {},
   "outputs": [],
   "source": [
    "def psi_plogit_spline_a1(theta):\n",
    "    ee_plog = ee_pooled_logit(theta=theta, t=t, delta=y, X=W, S=s_matrix)\n",
    "    ee_plog = ee_plog * (a == 1)[None, :]\n",
    "    return ee_plog"
   ]
  },
  {
   "cell_type": "code",
   "execution_count": 11,
   "id": "5788652a-2e1c-4de2-a311-8bd6d0e1c66c",
   "metadata": {},
   "outputs": [],
   "source": [
    "inits = [0., ]*W.shape[1] + [-8., ] + [0., ]*5\n",
    "estr = MEstimator(psi_plogit_spline_a1, init=inits)\n",
    "estr.estimate()"
   ]
  },
  {
   "cell_type": "code",
   "execution_count": 12,
   "id": "0857100a-493c-43a4-8c8e-7772df3d362f",
   "metadata": {},
   "outputs": [
    {
     "name": "stdout",
     "output_type": "stream",
     "text": [
      "[ 0.02834604 -0.42124355 -0.05118063  0.24494626  0.23373897 -0.01431099\n",
      "  0.01766006]\n",
      "[-1.28375320e+01 -6.48276569e-04  9.94612786e-07 -1.13737644e-06\n",
      " -7.97549994e-07  6.50320188e-06]\n"
     ]
    }
   ],
   "source": [
    "starting_a1_sp = list(estr.theta)\n",
    "beta_x = estr.theta[:W.shape[1]]\n",
    "beta_s = estr.theta[W.shape[1]:]\n",
    "print(beta_x)\n",
    "print(beta_s)"
   ]
  },
  {
   "cell_type": "markdown",
   "id": "58743316-a6c1-48e4-abed-f48b6795e332",
   "metadata": {},
   "source": [
    "Again, the same process can be applied for $A=0$"
   ]
  },
  {
   "cell_type": "code",
   "execution_count": 13,
   "id": "7f6fda96-ef72-48ff-a21a-b069764801f0",
   "metadata": {},
   "outputs": [
    {
     "name": "stdout",
     "output_type": "stream",
     "text": [
      "[ 6.12484089e-02 -9.02705746e-01  2.81202460e-01 -2.47628177e-01\n",
      "  4.05356325e-02  7.90255539e-04 -4.72463033e-03]\n",
      "[-7.83793634e+00  5.60634265e-04 -8.19224051e-07  1.03109877e-06\n",
      " -8.59963785e-07 -1.05856380e-05]\n"
     ]
    }
   ],
   "source": [
    "def psi_plogit_spline_a0(theta):\n",
    "    ee_plog = ee_pooled_logit(theta=theta, t=t, delta=y, X=W, S=s_matrix)\n",
    "    ee_plog = ee_plog * (a == 0)[None, :]\n",
    "    return ee_plog\n",
    "\n",
    "# Applying M-estimator procedure\n",
    "inits = [0., ]*W.shape[1] + [-8., ] + [0., ]*5\n",
    "estr = MEstimator(psi_plogit_spline_a0, init=inits)\n",
    "estr.estimate()\n",
    "\n",
    "# Showing results\n",
    "starting_a0_sp = list(estr.theta)\n",
    "beta_x = estr.theta[:W.shape[1]]\n",
    "beta_s = estr.theta[W.shape[1]:]\n",
    "print(beta_x)\n",
    "print(beta_s)"
   ]
  },
  {
   "cell_type": "markdown",
   "id": "f05eee95-9e9d-4103-b631-1d16794dbdac",
   "metadata": {},
   "source": [
    "## Estimating the Risk Difference\n",
    "\n",
    "The pooled logistic regression model is simply a nuisance model for the parameters were are interested in. Here, we apply the g-computation estimator to obtain the marginal risk differences. To simply writing the function, we call the previously defined pooled logistic model functions\n",
    "\n",
    "### Disjoint Indicators for Time\n",
    "\n",
    "First, consider how the disjoint indicators for time can be used to model the risk difference over follow-up"
   ]
  },
  {
   "cell_type": "code",
   "execution_count": 14,
   "id": "677a330d-2fef-4e56-a40a-4da741108a91",
   "metadata": {},
   "outputs": [],
   "source": [
    "event_times = [0, ] + list(np.unique(d.loc[d[delta_var] == 1, time_var])) + [np.max(t), ]\n",
    "event_times_a1 = list(np.unique(d.loc[(d[delta_var] == 1) & (d[act_var] == 1), time_var]))\n",
    "event_times_p1 = [0, ] + event_times_a1 + [np.max(t), ]\n",
    "event_times_a0 = list(np.unique(d.loc[(d[delta_var] == 1) & (d[act_var] == 0), time_var]))\n",
    "event_times_p0 = [0, ] + event_times_a0 + [np.max(t), ]\n",
    "params_rd = len(event_times)\n",
    "params_r1 = len(event_times_p1)\n",
    "params_r0 = len(event_times_p0)\n",
    "params_plr_a1 = len(event_times_a1)\n",
    "params_plr_a0 = len(event_times_a0)"
   ]
  },
  {
   "cell_type": "code",
   "execution_count": 15,
   "id": "0245baf4-eb86-41c0-9e3a-5916b5e4de22",
   "metadata": {},
   "outputs": [],
   "source": [
    "def psi_rd(theta):\n",
    "    # Extracting parameters\n",
    "    rds = theta[:params_rd]\n",
    "    idPLR = params_rd + W.shape[1] + params_plr_a1\n",
    "    beta1 = theta[params_rd: idPLR]\n",
    "    beta0 = theta[idPLR:]\n",
    "\n",
    "    # Nuisance models\n",
    "    ee_plog1 = psi_plogit_a1(theta=beta1)\n",
    "    ee_plog0 = psi_plogit_a0(theta=beta0)\n",
    "\n",
    "    # Predictions to get risk differences\n",
    "    risk1 = pooled_logit_prediction(theta=beta1, delta=y, t=t, X=W,\n",
    "                                    times_to_predict=event_times, measure='risk', unique_times=event_times_a1)\n",
    "    risk0 = pooled_logit_prediction(theta=beta0, delta=y, t=t, X=W,\n",
    "                                    times_to_predict=event_times, measure='risk', unique_times=event_times_a0)\n",
    "    ee_rd = (risk1 - risk0) - np.asarray(rds)[:, None]\n",
    "\n",
    "    # Returning stacked estimating equations\n",
    "    return np.vstack([ee_rd, ee_plog1, ee_plog0])"
   ]
  },
  {
   "cell_type": "code",
   "execution_count": 16,
   "id": "bd439ea0-68f1-4ed3-ba92-04c1f1acaf19",
   "metadata": {},
   "outputs": [],
   "source": [
    "inits = [0., ]*params_rd + starting_a1 + starting_a0\n",
    "estr = MEstimator(psi_rd, init=inits)\n",
    "estr.estimate()"
   ]
  },
  {
   "cell_type": "code",
   "execution_count": 17,
   "id": "f1937e75-55fc-4577-9577-111fb44d18cd",
   "metadata": {},
   "outputs": [],
   "source": [
    "rd = estr.theta[:params_rd]\n",
    "rd_ci = estr.confidence_intervals()[:params_rd, :]\n",
    "rd_results = pd.DataFrame()\n",
    "rd_results['time'] = event_times\n",
    "rd_results['rd'] = rd\n",
    "rd_results['lcl'] = rd_ci[:, 0]\n",
    "rd_results['ucl'] = rd_ci[:, 1]"
   ]
  },
  {
   "cell_type": "code",
   "execution_count": 18,
   "id": "1b76d225-9c4f-4f81-89ca-8734fd934c55",
   "metadata": {},
   "outputs": [
    {
     "data": {
      "image/png": "[encoded data removed]",
      "text/plain": [
       "<Figure size 432x252 with 1 Axes>"
      ]
     },
     "metadata": {
      "needs_background": "light"
     },
     "output_type": "display_data"
    }
   ],
   "source": [
    "fig, ax = plt.subplots(figsize=[6, 3.5])\n",
    "ax.axhline(y=0, linestyle=':', color='k')\n",
    "ax.fill_between(rd_results['time'], rd_results['lcl'], rd_results['ucl'], color='k', alpha=0.1, step='post')\n",
    "ax.step(rd_results['time'], rd_results['rd'], color='k', where='post')\n",
    "ax.set_xlim([0, max_time+5])\n",
    "ax.set_ylim([-0.5, 0.5])\n",
    "ax.set_xlabel(\"Time (months)\")\n",
    "ax.set_ylabel(\"Risk Difference\")\n",
    "plt.show()"
   ]
  },
  {
   "cell_type": "markdown",
   "id": "a508ee81-937c-42b9-9515-d8a2455a7d52",
   "metadata": {},
   "source": [
    "### Splines for Time\n",
    "\n",
    "Repeating estimation of the risk difference but with splines for time."
   ]
  },
  {
   "cell_type": "code",
   "execution_count": 19,
   "id": "6b65f593-1af3-4992-ad1a-4be955677316",
   "metadata": {},
   "outputs": [],
   "source": [
    "tp_intervals = [0, ] + list(range(1, max_time+1, 50)) + [np.max(t), ]\n",
    "params_risk = len(tp_intervals)"
   ]
  },
  {
   "cell_type": "code",
   "execution_count": 20,
   "id": "30ab2bec-ada9-4028-8817-79dd8d703f1f",
   "metadata": {},
   "outputs": [],
   "source": [
    "def psi_rd(theta):\n",
    "    # Extracting parameters\n",
    "    risks = theta[:params_risk]\n",
    "    idPLRM = params_risk + W.shape[1] + s_matrix.shape[1]\n",
    "    beta1 = theta[params_risk:idPLRM]\n",
    "    beta0 = theta[idPLRM:]\n",
    "\n",
    "    # Nuisance models\n",
    "    ee_plog1 = psi_plogit_spline_a1(theta=beta1)\n",
    "    ee_plog0 = psi_plogit_spline_a0(theta=beta0)\n",
    "\n",
    "    # Predictions to get risk differences\n",
    "    risk1 = pooled_logit_prediction(theta=beta1, t=t, delta=y, X=W, S=s_matrix,\n",
    "                                    times_to_predict=tp_intervals, measure='risk')\n",
    "    risk0 = pooled_logit_prediction(theta=beta0, t=t, delta=y, X=W, S=s_matrix,\n",
    "                                    times_to_predict=tp_intervals, measure='risk')\n",
    "    ee_rd = (risk1 - risk0) - np.asarray(risks)[:, None]\n",
    "\n",
    "    # Returning stacked estimating equations\n",
    "    return np.vstack([ee_rd, ee_plog1, ee_plog0])"
   ]
  },
  {
   "cell_type": "code",
   "execution_count": 21,
   "id": "e9299c2e-3b66-4941-bed2-ce7295c934af",
   "metadata": {},
   "outputs": [],
   "source": [
    "inits = [0., ]*params_risk + starting_a1_sp + starting_a0_sp\n",
    "estr = MEstimator(psi_rd, init=inits)\n",
    "estr.estimate()"
   ]
  },
  {
   "cell_type": "code",
   "execution_count": 22,
   "id": "88871373-c085-4488-8d73-d2137a0dae47",
   "metadata": {},
   "outputs": [],
   "source": [
    "rd_results = pd.DataFrame()\n",
    "rd_results['time'] = tp_intervals\n",
    "rd_results['rd'] = estr.theta[:params_risk]\n",
    "rd_ci = estr.confidence_intervals()[:params_risk, :]\n",
    "rd_results['lcl'] = rd_ci[:, 0]\n",
    "rd_results['ucl'] = rd_ci[:, 1]"
   ]
  },
  {
   "cell_type": "code",
   "execution_count": 23,
   "id": "1f698176-5d07-4c20-9ec4-ebed2d3be7ec",
   "metadata": {},
   "outputs": [
    {
     "data": {
      "image/png": "[encoded data removed]",
      "text/plain": [
       "<Figure size 432x252 with 1 Axes>"
      ]
     },
     "metadata": {
      "needs_background": "light"
     },
     "output_type": "display_data"
    }
   ],
   "source": [
    "fig, ax = plt.subplots(figsize=[6, 3.5])\n",
    "ax.axhline(y=0, linestyle=':', color='k')\n",
    "ax.fill_between(rd_results['time'], rd_results['lcl'], rd_results['ucl'], color='k', alpha=0.1)\n",
    "ax.plot(rd_results['time'], rd_results['rd'], color='k')\n",
    "ax.set_xlim([0, max_time+5])\n",
    "ax.set_ylim([-0.5, 0.5])\n",
    "ax.set_xlabel(\"Time (months)\")\n",
    "ax.set_ylabel(\"Risk Difference\")\n",
    "plt.show()"
   ]
  },
  {
   "cell_type": "markdown",
   "id": "22b6f507-5026-478d-b701-62b501773d6d",
   "metadata": {},
   "source": [
    "This completes the walkthrough of the example. If you wish to view the code for how the figures for the publication were generated or the timing between different implementations, please see the corresponding files described in the README."
   ]
  }
 ],
 "metadata": {
  "kernelspec": {
   "display_name": "Python 3 (ipykernel)",
   "language": "python",
   "name": "python3"
  },
  "language_info": {
   "codemirror_mode": {
    "name": "ipython",
    "version": 3
   },
   "file_extension": ".py",
   "mimetype": "text/x-python",
   "name": "python",
   "nbconvert_exporter": "python",
   "pygments_lexer": "ipython3",
   "version": "3.9.4"
  }
 },
 "nbformat": 4,
 "nbformat_minor": 5
}
